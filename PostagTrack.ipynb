{
 "cells": [
  {
   "cell_type": "code",
   "execution_count": 1,
   "metadata": {},
   "outputs": [
    {
     "name": "stdout",
     "output_type": "stream",
     "text": [
      "Số lượng mẫu trong tập huấn luyện: 7490\n",
      "Số lượng mẫu trong tập kiểm tra: 1299\n"
     ]
    }
   ],
   "source": [
    "import json\n",
    "\n",
    "# Đường dẫn đến tập dữ liệu huấn luyện và kiểm tra\n",
    "train_data_path = \"dataset/train.jsonl\"\n",
    "test_data_path = \"dataset/public_test.jsonl\"\n",
    "\n",
    "def read_jsonl(file_path):\n",
    "    data = []\n",
    "    with open(file_path, \"r\", encoding=\"utf-8\") as file:\n",
    "        for line in file:\n",
    "            data.append(json.loads(line))\n",
    "    return data\n",
    "\n",
    "# Đọc dữ liệu từ tập huấn luyện\n",
    "train_data = read_jsonl(train_data_path)\n",
    "\n",
    "# Đọc dữ liệu từ tập kiểm tra\n",
    "test_data = read_jsonl(test_data_path)\n",
    "\n",
    "# Kiểm tra số lượng mẫu dữ liệu trong tập huấn luyện và tập kiểm tra\n",
    "print(\"Số lượng mẫu trong tập huấn luyện:\", len(train_data))\n",
    "print(\"Số lượng mẫu trong tập kiểm tra:\", len(test_data))\n"
   ]
  },
  {
   "cell_type": "code",
   "execution_count": 9,
   "metadata": {},
   "outputs": [
    {
     "name": "stdout",
     "output_type": "stream",
     "text": [
      " device : đèn tranh \n",
      " location : nhà giữ đồ Trường Sa \n",
      " command : kiểm tra \n"
     ]
    }
   ],
   "source": [
    "# Ví dụ câu từ sentence_annotation\n",
    "sentence_annotation = \"cái [ device : đèn tranh ] trong [ location : nhà giữ đồ Trường Sa ] có còn không ấy nhờ đi [ command : kiểm tra ] ngay nhé\"\n",
    "\n",
    "# Trích xuất các thực thể từ sentence_annotation\n",
    "import re\n",
    "\n",
    "# Sử dụng regex để tìm các thực thể\n",
    "entities = re.findall(r'\\[([^\\]]+)\\]', sentence_annotation)\n",
    "\n",
    "# In ra danh sách các thực thể\n",
    "for entity in entities:\n",
    "    print(entity)\n"
   ]
  }
 ],
 "metadata": {
  "kernelspec": {
   "display_name": "Python 3",
   "language": "python",
   "name": "python3"
  },
  "language_info": {
   "codemirror_mode": {
    "name": "ipython",
    "version": 3
   },
   "file_extension": ".py",
   "mimetype": "text/x-python",
   "name": "python",
   "nbconvert_exporter": "python",
   "pygments_lexer": "ipython3",
   "version": "3.11.4"
  },
  "orig_nbformat": 4
 },
 "nbformat": 4,
 "nbformat_minor": 2
}
